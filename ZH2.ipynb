{
    "metadata": {
        "kernelspec": {
            "name": "SQL",
            "display_name": "SQL",
            "language": "sql"
        },
        "language_info": {
            "name": "sql",
            "version": ""
        }
    },
    "nbformat_minor": 2,
    "nbformat": 4,
    "cells": [
        {
            "cell_type": "markdown",
            "source": [
                "Listázzuk a foglalások számát szobánként, azon belül a foglalás éve szerint csoportosítva!\n",
                "\n",
                "- Az évnél a Mettől oszlopot használjuk\n",
                "- Jelenítsük meg a részösszegeket és a végösszeget is úgy, hogy ne jelenjen meg minden Oszlop/NULL kombináció!\n",
                "- A részösszegeket jelöljük megfelelően, pl. Részösszeg vagy Szoba összesen"
            ],
            "metadata": {
                "language": "sql",
                "azdata_cell_guid": "318608b8-3ab7-4e95-a84c-4c7a8c355714"
            },
            "attachments": {}
        },
        {
            "cell_type": "code",
            "source": [
                "SELECT SZOBA_FK,\r\n",
                "    COUNT(*) OVER(PARTITION BY SZOBA_FK, YEAR(METTOL))\r\n",
                "FROM Foglalas\r\n",
                "GROUP BY SZOBA_FK"
            ],
            "metadata": {
                "azdata_cell_guid": "f6d8f70a-8791-4b26-bb8b-0785753a2dd8",
                "language": "sql",
                "tags": []
            },
            "outputs": [
                {
                    "output_type": "error",
                    "evalue": "Msg 207, Level 16, State 1, Line 4\r\nInvalid column name 'Szoba_ID'.",
                    "ename": "",
                    "traceback": []
                },
                {
                    "output_type": "display_data",
                    "data": {
                        "text/html": "Total execution time: 00:00:00.001"
                    },
                    "metadata": {}
                }
            ],
            "execution_count": 31
        },
        {
            "cell_type": "markdown",
            "source": [
                "Rangsoroljuk az egyes szobákat a foglalások száma, azon belül férőhely szerint!\n",
                "\n",
                "- Holtverseny esetén a sorszámok sűrűn kövessék egymást\n",
                "- Az 1-es számot a legtöbbet foglalt, azon belül legkevesebb férőhelyű szoba kapja\n",
                "- Csak a szoba azonosítója, a férőhely és a helyezés jelenjen meg\n",
                "\n",
                "Válaszszöveg 2 kérdés\n",
                "\n",
                "Rich text szerkeszt"
            ],
            "metadata": {
                "language": "sql",
                "azdata_cell_guid": "84b19a7d-5e79-44d4-804e-281629fb7267"
            },
            "attachments": {}
        },
        {
            "cell_type": "code",
            "source": [
                "SELECT \r\n",
                "    DENSE_RANK() OVER (ORDER BY COUNT(), sz.FEROHELY),\r\n",
                "    sz.SZOBA_ID,\r\n",
                "    sz.FEROHELY\r\n",
                "FROM Szoba sz JOIN Foglalas f ON sz.SZOBA_ID = F.SZOBA_FK\r\n",
                "GROUP BY \r\n",
                "    sz.SZOBA_ID, sz.FEROHELY"
            ],
            "metadata": {
                "language": "sql",
                "azdata_cell_guid": "98c02697-c9d1-4c4b-b0d3-f9f935b093c9"
            },
            "outputs": [
                {
                    "output_type": "error",
                    "evalue": "Msg 174, Level 15, State 1, Line 2\r\nThe COUNT function requires 1 argument(s).",
                    "ename": "",
                    "traceback": []
                },
                {
                    "output_type": "display_data",
                    "data": {
                        "text/html": "Total execution time: 00:00:00.001"
                    },
                    "metadata": {}
                }
            ],
            "execution_count": 27
        }
    ]
}